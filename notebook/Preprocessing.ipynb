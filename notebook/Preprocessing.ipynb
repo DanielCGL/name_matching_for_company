{
 "cells": [
  {
   "cell_type": "code",
   "execution_count": 1,
   "id": "c83c8c24",
   "metadata": {},
   "outputs": [],
   "source": [
    "company_name = 'SAMSUNG ÃŠLECTRONICS Holding, LTD' "
   ]
  },
  {
   "cell_type": "code",
   "execution_count": 24,
   "id": "2d8411bd",
   "metadata": {},
   "outputs": [
    {
     "data": {
      "text/plain": [
       "'samsung ãšlectronics holding, ltd'"
      ]
     },
     "execution_count": 24,
     "metadata": {},
     "output_type": "execute_result"
    }
   ],
   "source": [
    "company_name.lower()"
   ]
  },
  {
   "cell_type": "code",
   "execution_count": 25,
   "id": "130959cb",
   "metadata": {},
   "outputs": [
    {
     "data": {
      "text/plain": [
       "'SAMSUNG ASLECTRONICS Holding, LTD'"
      ]
     },
     "execution_count": 25,
     "metadata": {},
     "output_type": "execute_result"
    }
   ],
   "source": [
    "import unicodedata\n",
    "unicodedata.normalize('NFKD', company_name).encode('ASCII', 'ignore').decode()"
   ]
  },
  {
   "cell_type": "code",
   "execution_count": 4,
   "id": "214e8082",
   "metadata": {},
   "outputs": [
    {
     "data": {
      "text/plain": [
       "'SAMSUNG ÃŠLECTRONICS Holding LTD'"
      ]
     },
     "execution_count": 4,
     "metadata": {},
     "output_type": "execute_result"
    }
   ],
   "source": [
    "import re\n",
    "re.sub(r'[^\\w\\s]','',company_name)"
   ]
  },
  {
   "cell_type": "code",
   "execution_count": 27,
   "id": "1ccc677f",
   "metadata": {},
   "outputs": [
    {
     "data": {
      "text/plain": [
       "'SAMSUNG ÃŠLECTRONICS Holding'"
      ]
     },
     "execution_count": 27,
     "metadata": {},
     "output_type": "execute_result"
    }
   ],
   "source": [
    "from cleanco import basename\n",
    "basename(company_name)"
   ]
  },
  {
   "cell_type": "code",
   "execution_count": 5,
   "id": "df9192ab",
   "metadata": {},
   "outputs": [
    {
     "data": {
      "text/plain": [
       "'SAMSUNG ÃŠLECTRONICS'"
      ]
     },
     "execution_count": 5,
     "metadata": {},
     "output_type": "execute_result"
    }
   ],
   "source": [
    "suffix = ' Holding, LTD'\n",
    "' '.join(re.sub(r'\\b{}\\b'.format(re.escape(suffix)), '', company_name).split())"
   ]
  }
 ],
 "metadata": {
  "kernelspec": {
   "display_name": "Python 3 (ipykernel)",
   "language": "python",
   "name": "python3"
  },
  "language_info": {
   "codemirror_mode": {
    "name": "ipython",
    "version": 3
   },
   "file_extension": ".py",
   "mimetype": "text/x-python",
   "name": "python",
   "nbconvert_exporter": "python",
   "pygments_lexer": "ipython3",
   "version": "3.11.4"
  }
 },
 "nbformat": 4,
 "nbformat_minor": 5
}
